{
 "cells": [
  {
   "cell_type": "code",
   "execution_count": 2,
   "id": "47349683-c9e6-4a28-9369-2680a8f21658",
   "metadata": {},
   "outputs": [],
   "source": [
    "import os\n",
    "import sys\n",
    "import pickle\n",
    "import numpy as np\n",
    "import pandas as pd\n",
    "from sklearn import preprocessing\n",
    "from sklearn import metrics\n",
    "from sklearn.ensemble import RandomForestRegressor\n",
    "from sklearn.metrics import mean_absolute_error\n",
    "from extractFeatures import extractCT,get_resname_char"
   ]
  },
  {
   "cell_type": "code",
   "execution_count": 3,
   "id": "08959981-f69e-4c2d-a988-4d8336c81771",
   "metadata": {
    "tags": []
   },
   "outputs": [],
   "source": [
    "def load_ss2cs_model(nucleus, DIR_PATH):\n",
    "  ''' load save model '''\n",
    "  filename = DIR_PATH + '/model/RF_' + nucleus + '.sav'\n",
    "  model = pickle.load(open(filename, 'rb'))\n",
    "  return(model)"
   ]
  },
  {
   "cell_type": "code",
   "execution_count": 18,
   "id": "1472e9a5-c1ce-4844-8168-503d6414b9f7",
   "metadata": {},
   "outputs": [],
   "source": [
    "def processfile(inFile, outFile, DIR_PATH):\n",
    "    \n",
    "    # initialize    \n",
    "    rna = \"user\"\n",
    "    nuclei = [\"C1'\", \"C2'\", \"C3'\", \"C4'\", \"C5'\",\"C2\",\"C5\",\"C6\",\"C8\", \"H1'\", \"H2'\", \"H3'\",\"H4'\", \"H5'\",\"H5''\",\"H2\",\"H5\",\"H6\",\"H8\"]\n",
    "\n",
    "    # featurization\n",
    "    features = extractCT(inFile, rna)\n",
    "    features.drop('i_resname_char', axis=1, inplace=True)\n",
    "\n",
    "    # fit one hot encoder\n",
    "    train_X = pd.read_csv(DIR_PATH+\"/data/train_X_NEW.csv\",sep=' ',header=0)\n",
    "    train_X = train_X.drop(['id','length','resid'],axis = 1)\n",
    "    enc = preprocessing.OneHotEncoder(sparse = False)\n",
    "    enc.fit(train_X)\n",
    "    \n",
    "    # fit model for each nucleus type\n",
    "    results = pd.DataFrame([])\n",
    "    for nucleus in nuclei:\n",
    "    # one hot encoding testing data\n",
    "        features_resname = features.drop(['id', 'length', 'resid'],axis=1)\n",
    "        features_info = features['length']\n",
    "        features_resname_enc = pd.DataFrame(enc.transform(features_resname))\n",
    "        features_enc = pd.concat([features_info, features_resname_enc],axis = 1)\n",
    "\n",
    "        # model prediction\n",
    "        model = load_ss2cs_model(nucleus, DIR_PATH)\n",
    "        y_pred = model.predict(features_enc)\n",
    "\n",
    "        # format prediction\n",
    "        output_resname = features['i_resname'].apply(lambda x: get_resname_char(x))\n",
    "        output_resid = features['resid']\n",
    "        output_nucleus = pd.Series([nucleus]*len(features))\n",
    "        output_cs = pd.Series(y_pred)\n",
    "        output_error = pd.Series([\".\"]*len(features))\n",
    "        result = pd.concat([output_resname, output_resid, output_nucleus, output_cs, output_error],axis=1)\n",
    "        results = pd.concat([results, result],ignore_index=True)\n",
    "        \n",
    "    results.to_csv(outFile, sep=' ', header=None, index=False)"
   ]
  },
  {
   "cell_type": "code",
   "execution_count": 5,
   "id": "93a926f3-1896-4e2b-8505-ebd1bd3f317d",
   "metadata": {},
   "outputs": [],
   "source": [
    "DIR_PATH = \"../SS2CS\""
   ]
  },
  {
   "cell_type": "code",
   "execution_count": 9,
   "id": "9a4ab99a-9456-4c90-a32a-e7503ee29fe1",
   "metadata": {},
   "outputs": [],
   "source": [
    "ctfiles = [f for f in os.listdir(\"../CS-BME-dev/data/unassigned\") if f.endswith(\".ct\")]"
   ]
  },
  {
   "cell_type": "code",
   "execution_count": 12,
   "id": "7588b90c-fb63-4135-8139-a5a8cc61215e",
   "metadata": {},
   "outputs": [
    {
     "data": {
      "text/plain": [
       "'1HWQ_1.csv'"
      ]
     },
     "execution_count": 12,
     "metadata": {},
     "output_type": "execute_result"
    }
   ],
   "source": [
    "ctfiles[0].replace(\".ct\",\".csv\")"
   ]
  },
  {
   "cell_type": "code",
   "execution_count": 20,
   "id": "cede02f8-f2d2-47c5-bdd3-a8bc0f49c288",
   "metadata": {},
   "outputs": [],
   "source": [
    "for x in ctfiles:\n",
    "    processfile(\"../CS-BME-dev/data/unassigned/\" + x, \"../CS-BME-dev/data/unassigned/\" + x.replace(\".ct\",\".csv\"), DIR_PATH = \"../SS2CS\")"
   ]
  },
  {
   "cell_type": "code",
   "execution_count": null,
   "id": "aaff1e3e-1923-4362-bb52-f89ff0938f8c",
   "metadata": {},
   "outputs": [],
   "source": []
  }
 ],
 "metadata": {
  "kernelspec": {
   "display_name": "Python 3",
   "language": "python",
   "name": "python3"
  },
  "language_info": {
   "codemirror_mode": {
    "name": "ipython",
    "version": 3
   },
   "file_extension": ".py",
   "mimetype": "text/x-python",
   "name": "python",
   "nbconvert_exporter": "python",
   "pygments_lexer": "ipython3",
   "version": "3.7.11"
  }
 },
 "nbformat": 4,
 "nbformat_minor": 5
}
