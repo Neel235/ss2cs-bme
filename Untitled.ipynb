{
 "cells": [
  {
   "cell_type": "code",
   "execution_count": 1,
   "id": "da3cafb3-f778-44e8-ab44-057aeb711478",
   "metadata": {},
   "outputs": [],
   "source": [
    "import os\n",
    "import sys\n",
    "from tqdm import tqdm\n",
    "import pickle\n",
    "import numpy as np\n",
    "import pandas as pd\n",
    "import argparse\n",
    "from sklearn import preprocessing\n",
    "from sklearn import metrics\n",
    "from sklearn.ensemble import RandomForestRegressor\n",
    "from sklearn.metrics import mean_absolute_error\n",
    "from extractFeatures import extractCT,get_resname_char\n",
    "from ss2cs_batch import processfile "
   ]
  },
  {
   "cell_type": "code",
   "execution_count": 3,
   "id": "c8da09a4-2e46-4bfa-9fa9-a8659e71a0e0",
   "metadata": {},
   "outputs": [],
   "source": [
    "root = \"../CS-BME-dev/data/unassigned/\""
   ]
  },
  {
   "cell_type": "code",
   "execution_count": 4,
   "id": "1da9ad63-5278-4f04-aac4-d305081c779c",
   "metadata": {},
   "outputs": [],
   "source": [
    "inFile1 = root\n",
    "outFile1 = root\n",
    "DIR_PATH1 = \"../SS2CS\""
   ]
  },
  {
   "cell_type": "code",
   "execution_count": 19,
   "id": "5ba7d998-38d4-4d5c-9e91-45f84fd84b16",
   "metadata": {},
   "outputs": [],
   "source": [
    "def concat(inFile, outFile, DIR_PATH):\n",
    "    ctfiles = [f for f in os.listdir(inFile) if f.endswith(\".ct\")]  \n",
    "    prefix = []\n",
    "    for file in ctfiles:\n",
    "        prefix.append(file[:4])\n",
    "    prefix = list(set(prefix))\n",
    "    df_list = []\n",
    "    for x in prefix[:2]:\n",
    "        print(x)\n",
    "        ctfiles_x = [f for f in ctfiles if f[:4] == x]\n",
    "        df = pd.DataFrame()\n",
    "        orders = [int(file.split(\".\")[0].split(\"_\")[1]) for file in ctfiles_x]\n",
    "        orders.sort()\n",
    "        for order in orders:\n",
    "            file = x + \"_\" + str(order) + \".ct\"\n",
    "            inFileName = os.path.join(inFile, file)\n",
    "            outFileName = os.path.join(outFile, file.replace(\".ct\", \".csv\"))\n",
    "            df_cur = processfile(inFileName, outFileName, DIR_PATH)\n",
    "            df_cur[\"id\"] = order\n",
    "            df = pd.concat([df, df_cur])\n",
    "        df = df.drop(columns = [2]).reset_index(drop = True).rename(columns = {0:\"nucleus\", 1: \"shift\"})\n",
    "        df_list.append(df)\n",
    "    return list(zip(df_list, prefix))"
   ]
  },
  {
   "cell_type": "code",
   "execution_count": 20,
   "id": "6f06c606-ec1a-4e14-9bec-4592f36a5f24",
   "metadata": {},
   "outputs": [
    {
     "name": "stdout",
     "output_type": "stream",
     "text": [
      "5KMZ\n",
      "2NBY\n"
     ]
    },
    {
     "data": {
      "text/plain": [
       "[(     i_resname  resid nucleus      shift  id\n",
       "  0          ADE      1     C1'  91.782626   1\n",
       "  1          ADE      2     C1'  92.864040   1\n",
       "  2          CYT      3     C1'  94.190758   1\n",
       "  3          CYT      4     C1'  94.768997   1\n",
       "  4          URA      5     C1'  92.988338   1\n",
       "  ...        ...    ...     ...        ...  ..\n",
       "  6474       GUA     27      H8   7.581497  11\n",
       "  6475       URA     28      H8   7.910929  11\n",
       "  6476       GUA     29      H8   7.663863  11\n",
       "  6477       GUA     30      H8   7.467345  11\n",
       "  6478       URA     31      H8   7.521371  11\n",
       "  \n",
       "  [6479 rows x 5 columns],\n",
       "  '5KMZ'),\n",
       " (     i_resname  resid nucleus      shift  id\n",
       "  0          GUA      1     C1'  91.441435   1\n",
       "  1          GUA      2     C1'  92.817460   1\n",
       "  2          GUA      3     C1'  93.170130   1\n",
       "  3          CYT      4     C1'  93.972466   1\n",
       "  4          ADE      5     C1'  93.032913   1\n",
       "  ...        ...    ...     ...        ...  ..\n",
       "  8146       URA     35      H8   7.735990  11\n",
       "  8147       GUA     36      H8   7.720782  11\n",
       "  8148       CYT     37      H8   7.547096  11\n",
       "  8149       CYT     38      H8   7.809559  11\n",
       "  8150       CYT     39      H8   7.723911  11\n",
       "  \n",
       "  [8151 rows x 5 columns],\n",
       "  '2NBY')]"
      ]
     },
     "execution_count": 20,
     "metadata": {},
     "output_type": "execute_result"
    }
   ],
   "source": [
    "concat(inFile1, outFile1, DIR_PATH1)"
   ]
  }
 ],
 "metadata": {
  "kernelspec": {
   "display_name": "Python 3",
   "language": "python",
   "name": "python3"
  },
  "language_info": {
   "codemirror_mode": {
    "name": "ipython",
    "version": 3
   },
   "file_extension": ".py",
   "mimetype": "text/x-python",
   "name": "python",
   "nbconvert_exporter": "python",
   "pygments_lexer": "ipython3",
   "version": "3.7.11"
  }
 },
 "nbformat": 4,
 "nbformat_minor": 5
}
